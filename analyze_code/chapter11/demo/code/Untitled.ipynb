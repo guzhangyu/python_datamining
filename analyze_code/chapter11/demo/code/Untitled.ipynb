{
 "cells": [
  {
   "cell_type": "code",
   "execution_count": 1,
   "metadata": {},
   "outputs": [
    {
     "name": "stdout",
     "output_type": "stream",
     "text": [
      "Index(['CWXT_DB:184:C:\\', 'CWXT_DB:184:D:\\'], dtype='object')\n",
      "             CWXT_DB:184:D:\\\n",
      "COLLECTTIME                 \n",
      "2014-10-01       80262592.65\n",
      "2014-10-02       83200151.65\n",
      "2014-10-03       83208320.00\n",
      "2014-10-04       83099271.65\n",
      "2014-10-05       82765171.65\n",
      "2014-10-06       82522895.00\n",
      "2014-10-07       82590885.00\n",
      "2014-10-08       82368173.30\n",
      "2014-10-09       82172263.30\n",
      "2014-10-10       81922685.00\n",
      "2014-10-11       84844722.95\n",
      "2014-10-12       84769868.90\n",
      "2014-10-13       84558703.40\n",
      "2014-10-14       84207166.80\n",
      "2014-10-15       84042911.90\n",
      "2014-10-16       84129516.15\n",
      "2014-10-17       83877754.85\n",
      "2014-10-18       83887520.40\n",
      "2014-10-19       83538509.75\n",
      "2014-10-20       86483653.00\n",
      "2014-10-21       82496743.30\n",
      "2014-10-22       82300356.65\n",
      "2014-10-23       82130251.65\n",
      "2014-10-24       84844587.65\n",
      "2014-10-25       84845444.65\n",
      "2014-10-26       84684911.05\n",
      "2014-10-27       84500606.35\n",
      "2014-10-28       84145461.25\n",
      "2014-10-29       84172525.10\n",
      "2014-10-30       83957818.70\n",
      "2014-10-31       83684789.75\n",
      "2014-11-01       86485366.95\n",
      "2014-11-02       86454023.45\n",
      "2014-11-03       86127041.70\n",
      "2014-11-04       86161390.40\n",
      "2014-11-05       85938933.90\n",
      "2014-11-06       85645056.50\n",
      "2014-11-07       85272926.05\n",
      "2014-11-08       88110097.75\n",
      "2014-11-09       88128626.65\n",
      "2014-11-10       88075997.75\n",
      "2014-11-11       87753526.65\n",
      "2014-11-12       87249335.55\n",
      "2014-11-13       86986142.20\n",
      "2014-11-14       86678240.00\n",
      "2014-11-15       89766600.00\n",
      "2014-11-16       89377527.25\n"
     ]
    },
    {
     "data": {
      "text/plain": [
       "<Figure size 640x480 with 1 Axes>"
      ]
     },
     "metadata": {},
     "output_type": "display_data"
    }
   ],
   "source": [
    "#-*- coding: utf-8 -*-\n",
    "#平稳性检验\n",
    "import pandas as pd\n",
    "\n",
    "#参数初始化\n",
    "discfile = '../data/discdata_processed.xls'\n",
    "predictnum =5 #不使用最后5个数据\n",
    "\n",
    "data = pd.read_excel(discfile,index_col='COLLECTTIME')\n",
    "del data['SYS_NAME']\n",
    "print(data.columns)\n",
    "print(data[[data.columns[1]]])\n",
    "ax=data[[data.columns[1]]].plot()\n",
    "\n",
    "import matplotlib.pyplot as plt\n",
    "ax.grid(True)\n",
    "plt.xticks(data.index)\n",
    "plt.show()\n"
   ]
  },
  {
   "cell_type": "code",
   "execution_count": null,
   "metadata": {},
   "outputs": [],
   "source": []
  }
 ],
 "metadata": {
  "kernelspec": {
   "display_name": "Python 3",
   "language": "python",
   "name": "python3"
  },
  "language_info": {
   "codemirror_mode": {
    "name": "ipython",
    "version": 3
   },
   "file_extension": ".py",
   "mimetype": "text/x-python",
   "name": "python",
   "nbconvert_exporter": "python",
   "pygments_lexer": "ipython3",
   "version": "3.7.0"
  }
 },
 "nbformat": 4,
 "nbformat_minor": 2
}
